{
 "cells": [
  {
   "cell_type": "markdown",
   "metadata": {
    "toc": true
   },
   "source": [
    "<h1>Table of Contents<span class=\"tocSkip\"></span></h1>\n",
    "<div class=\"toc\"><ul class=\"toc-item\"></ul></div>"
   ]
  },
  {
   "cell_type": "markdown",
   "metadata": {},
   "source": [
    "# Drug Label Analysis, OpenFDA"
   ]
  },
  {
   "cell_type": "code",
   "execution_count": 1,
   "metadata": {},
   "outputs": [],
   "source": [
    "%matplotlib inline  \n",
    "import matplotlib.pyplot as plt\n",
    "plt.rcParams['figure.figsize'] = (10,8)\n",
    "import numpy as np\n",
    "\n",
    "import os\n",
    "import pprint\n",
    "import json\n",
    "import pandas as pd\n",
    "pprint = pprint.pprint #Set up pretty print"
   ]
  },
  {
   "cell_type": "code",
   "execution_count": 2,
   "metadata": {},
   "outputs": [],
   "source": [
    "df = pd.read_json('../data/drug_labels_rx_trimmed.json')"
   ]
  },
  {
   "cell_type": "code",
   "execution_count": null,
   "metadata": {},
   "outputs": [],
   "source": [
    "## drop all columns that are 10% nan or greater\n",
    "#print(df.columns[df.isna().all()].tolist())\n",
    "#df_trim = df[df.columns[df.isna().sum()<3500]]\n",
    "#df_trim.reset_index(drop=True, inplace=True)\n",
    "#\n",
    "## reorder cols to see names\n",
    "#cols = df_trim.columns.tolist()\n",
    "#cols.remove('openfda_brand_name')\n",
    "#cols.insert(0, 'openfda_brand_name')\n",
    "#cols.remove('openfda_generic_name')\n",
    "#cols.insert(0, 'openfda_generic_name')\n",
    "#df_trim = df_trim[cols]\n",
    "#\n",
    "## calc total chars\n",
    "#df_trim['total_chars'] = 0\n",
    "## only consider string-like columns\n",
    "#for col in df_trim.select_dtypes(include='object').columns:\n",
    "#    df_trim['total_chars'] += np.nan_to_num(df_trim[col].str.len())\n",
    "#    \n",
    "## make json\n",
    "#df_trim.to_json('../data/drug_labels_rx_trimmed.json') "
   ]
  },
  {
   "cell_type": "code",
   "execution_count": 3,
   "metadata": {},
   "outputs": [
    {
     "data": {
      "text/plain": [
       "68689.4672"
      ]
     },
     "execution_count": 3,
     "metadata": {},
     "output_type": "execute_result"
    }
   ],
   "source": [
    "# estimate amazon pricing\n",
    "df['total_chars'].sum()/100 * 0.01 # $70,000 for the prescription only shiz\n"
   ]
  },
  {
   "cell_type": "code",
   "execution_count": 4,
   "metadata": {},
   "outputs": [
    {
     "data": {
      "text/html": [
       "<div>\n",
       "<style scoped>\n",
       "    .dataframe tbody tr th:only-of-type {\n",
       "        vertical-align: middle;\n",
       "    }\n",
       "\n",
       "    .dataframe tbody tr th {\n",
       "        vertical-align: top;\n",
       "    }\n",
       "\n",
       "    .dataframe thead th {\n",
       "        text-align: right;\n",
       "    }\n",
       "</style>\n",
       "<table border=\"1\" class=\"dataframe\">\n",
       "  <thead>\n",
       "    <tr style=\"text-align: right;\">\n",
       "      <th></th>\n",
       "      <th>openfda_generic_name</th>\n",
       "      <th>openfda_brand_name</th>\n",
       "      <th>adverse_reactions</th>\n",
       "      <th>clinical_pharmacology</th>\n",
       "      <th>contraindications</th>\n",
       "      <th>description</th>\n",
       "      <th>dosage_and_administration</th>\n",
       "      <th>effective_time</th>\n",
       "      <th>how_supplied</th>\n",
       "      <th>id</th>\n",
       "      <th>indications_and_usage</th>\n",
       "      <th>openfda_application_number</th>\n",
       "      <th>openfda_manufacturer_name</th>\n",
       "      <th>openfda_package_ndc</th>\n",
       "      <th>openfda_product_ndc</th>\n",
       "      <th>openfda_product_type</th>\n",
       "      <th>openfda_route</th>\n",
       "      <th>openfda_rxcui</th>\n",
       "      <th>openfda_spl_id</th>\n",
       "      <th>openfda_spl_set_id</th>\n",
       "      <th>openfda_substance_name</th>\n",
       "      <th>openfda_unii</th>\n",
       "      <th>package_label_principal_display_panel</th>\n",
       "      <th>set_id</th>\n",
       "      <th>spl_product_data_elements</th>\n",
       "      <th>version</th>\n",
       "      <th>total_chars</th>\n",
       "    </tr>\n",
       "  </thead>\n",
       "  <tbody>\n",
       "    <tr>\n",
       "      <th>0</th>\n",
       "      <td>LEVOCETIRIZINE DIHYDROCHLORIDE</td>\n",
       "      <td>levocetirizine dihydrochloride</td>\n",
       "      <td>6 ADVERSE REACTIONS Use of levocetirizine dihy...</td>\n",
       "      <td>12 CLINICAL PHARMACOLOGY 12.1 Mechanism of Act...</td>\n",
       "      <td>4 CONTRAINDICATIONS The use of levocetirizine ...</td>\n",
       "      <td>11 DESCRIPTION Levocetirizine dihydrochloride,...</td>\n",
       "      <td>2 DOSAGE AND ADMINISTRATION Levocetirizine dih...</td>\n",
       "      <td>20160301</td>\n",
       "      <td>16 HOW SUPPLIED/STORAGE AND HANDLING Levocetir...</td>\n",
       "      <td>b84ccb27-9c52-43b9-9a46-8f52a571045e</td>\n",
       "      <td>1 INDICATIONS AND USAGE Levocetirizine dihydro...</td>\n",
       "      <td>ANDA203646</td>\n",
       "      <td>Proficient Rx LP</td>\n",
       "      <td>[63187-663-60, 63187-663-90, 63187-663-30]</td>\n",
       "      <td>63187-663</td>\n",
       "      <td>HUMAN PRESCRIPTION DRUG</td>\n",
       "      <td>ORAL</td>\n",
       "      <td>855172</td>\n",
       "      <td>b84ccb27-9c52-43b9-9a46-8f52a571045e</td>\n",
       "      <td>b84ccb27-9c52-43b9-9a46-8f52a571045e</td>\n",
       "      <td>LEVOCETIRIZINE DIHYDROCHLORIDE</td>\n",
       "      <td>SOD6A38AGA</td>\n",
       "      <td>PACKAGE LABEL-PRINCIPAL DISPLAY PANEL NDC 6318...</td>\n",
       "      <td>b84ccb27-9c52-43b9-9a46-8f52a571045e</td>\n",
       "      <td>levocetirizine dihydrochloride levocetirizine ...</td>\n",
       "      <td>1</td>\n",
       "      <td>25488</td>\n",
       "    </tr>\n",
       "    <tr>\n",
       "      <th>1</th>\n",
       "      <td>LISINOPRIL</td>\n",
       "      <td>Lisinopril</td>\n",
       "      <td>6 ADVERSE REACTIONS Common adverse reactions (...</td>\n",
       "      <td>12 CLINICAL PHARMACOLOGY 12.1 Mechanism of Act...</td>\n",
       "      <td>4 CONTRAINDICATIONS Lisinopril is contraindica...</td>\n",
       "      <td>11 DESCRIPTION Lisinopril is an oral long-acti...</td>\n",
       "      <td>2 DOSAGE AND ADMINISTRATION Hypertension: Init...</td>\n",
       "      <td>20160627</td>\n",
       "      <td>16 HOW SUPPLIED/STORAGE AND HANDLING Lisinopri...</td>\n",
       "      <td>d4004fc6-9440-4480-be75-8baa53b96090</td>\n",
       "      <td>1 INDICATIONS AND USAGE Lisinopril is an angio...</td>\n",
       "      <td>ANDA075743</td>\n",
       "      <td>Aphena Pharma Solutions - Tennessee, LLC</td>\n",
       "      <td>[43353-993-92, 43353-993-45, 43353-993-53, 433...</td>\n",
       "      <td>43353-993</td>\n",
       "      <td>HUMAN PRESCRIPTION DRUG</td>\n",
       "      <td>ORAL</td>\n",
       "      <td>314077</td>\n",
       "      <td>d4004fc6-9440-4480-be75-8baa53b96090</td>\n",
       "      <td>4d0d04a6-6010-4f2a-b17e-6c7a856d2056</td>\n",
       "      <td>LISINOPRIL</td>\n",
       "      <td>E7199S1YWR</td>\n",
       "      <td>PRINCIPAL DISPLAY PANEL - 20 mg NDC 43353-993 ...</td>\n",
       "      <td>4d0d04a6-6010-4f2a-b17e-6c7a856d2056</td>\n",
       "      <td>Lisinopril Lisinopril LISINOPRIL LISINOPRIL AN...</td>\n",
       "      <td>1</td>\n",
       "      <td>24413</td>\n",
       "    </tr>\n",
       "    <tr>\n",
       "      <th>10</th>\n",
       "      <td>CHOLESTYRAMINE</td>\n",
       "      <td>Cholestyramine</td>\n",
       "      <td>ADVERSE REACTIONS The most common adverse reac...</td>\n",
       "      <td>CLINICAL PHARMACOLOGY Cholesterol is probably ...</td>\n",
       "      <td>CONTRAINDICATIONS Cholestyramine for Oral Susp...</td>\n",
       "      <td>DESCRIPTION Cholestyramine for Oral Suspension...</td>\n",
       "      <td>DOSAGE AND ADMINISTRATION The recommended star...</td>\n",
       "      <td>20180504</td>\n",
       "      <td>HOW SUPPLIED Cholestyramine for Oral Suspensio...</td>\n",
       "      <td>e0d44fe4-f7b8-4069-8e0e-b8920960b23f</td>\n",
       "      <td>INDICATIONS AND USAGE 1) Cholestyramine for Or...</td>\n",
       "      <td>ANDA074557</td>\n",
       "      <td>Upsher-Smith Laboratories, Inc.</td>\n",
       "      <td>[0245-0536-37, 0245-0536-60]</td>\n",
       "      <td>0245-0536</td>\n",
       "      <td>HUMAN PRESCRIPTION DRUG</td>\n",
       "      <td>ORAL</td>\n",
       "      <td>848943</td>\n",
       "      <td>e0d44fe4-f7b8-4069-8e0e-b8920960b23f</td>\n",
       "      <td>aa1e8007-ec11-4a08-a343-b5b0645695a1</td>\n",
       "      <td>CHOLESTYRAMINE</td>\n",
       "      <td>4B33BGI082</td>\n",
       "      <td>PRINCIPAL DISPLAY PANEL NDC 0245-0536-37 Chole...</td>\n",
       "      <td>aa1e8007-ec11-4a08-a343-b5b0645695a1</td>\n",
       "      <td>Cholestyramine Cholestyramine CHOLESTYRAMINE C...</td>\n",
       "      <td>6</td>\n",
       "      <td>15305</td>\n",
       "    </tr>\n",
       "    <tr>\n",
       "      <th>100</th>\n",
       "      <td>WARFARIN SODIUM</td>\n",
       "      <td>Warfarin Sodium</td>\n",
       "      <td>6 ADVERSE REACTIONS The following serious adve...</td>\n",
       "      <td>12 CLINICAL PHARMACOLOGY 12.1 Mechanism of Act...</td>\n",
       "      <td>4 CONTRAINDICATIONS Warfarin sodium tablets, U...</td>\n",
       "      <td>11 DESCRIPTION Warfarin sodium tablets contain...</td>\n",
       "      <td>2 DOSAGE AND ADMINISTRATION Individualize dosi...</td>\n",
       "      <td>20171021</td>\n",
       "      <td>16 HOW SUPPLIED/STORAGE AND HANDLING Warfarin ...</td>\n",
       "      <td>4e72832d-fbd7-4bf3-946c-6aeec550d345</td>\n",
       "      <td>1 INDICATIONS AND USAGE Warfarin sodium tablet...</td>\n",
       "      <td>ANDA040301</td>\n",
       "      <td>Taro Pharmaceuticals U.S.A., Inc.</td>\n",
       "      <td>[51672-4027-7, 51672-4027-3, 51672-4027-0, 516...</td>\n",
       "      <td>[51672-4033, 51672-4032, 51672-4031, 51672-403...</td>\n",
       "      <td>HUMAN PRESCRIPTION DRUG</td>\n",
       "      <td>ORAL</td>\n",
       "      <td>[855332, 855288, 855344, 855318, 855324, 85530...</td>\n",
       "      <td>4e72832d-fbd7-4bf3-946c-6aeec550d345</td>\n",
       "      <td>8ad881e0-ca41-42ad-9d7d-eb85b3a30af0</td>\n",
       "      <td>WARFARIN SODIUM</td>\n",
       "      <td>6153CWM0CL</td>\n",
       "      <td>[PRINCIPAL DISPLAY PANEL - 1 mg Tablet Bottle ...</td>\n",
       "      <td>8ad881e0-ca41-42ad-9d7d-eb85b3a30af0</td>\n",
       "      <td>Warfarin Sodium Warfarin Sodium Warfarin Sodiu...</td>\n",
       "      <td>8</td>\n",
       "      <td>27589</td>\n",
       "    </tr>\n",
       "    <tr>\n",
       "      <th>1000</th>\n",
       "      <td>LEVOFLOXACIN</td>\n",
       "      <td>LEVOFLOXACIN</td>\n",
       "      <td>6.1 Serious and Otherwise Important Adverse Re...</td>\n",
       "      <td>12.1 Mechanism of Action Levofloxacin is a mem...</td>\n",
       "      <td>Levofloxacin is contraindicated in persons wit...</td>\n",
       "      <td>[levofloxacinfigure1] Levofloxacin, USP is a s...</td>\n",
       "      <td>2.1 Dosage in Adult Patients with Normal Renal...</td>\n",
       "      <td>20180315</td>\n",
       "      <td>16.1 Levofloxacin Tablets, USP •Levofloxacin T...</td>\n",
       "      <td>677628d1-858c-7a4e-e053-2a91aa0a099a</td>\n",
       "      <td>Levofloxacin tablets are indicated for the tre...</td>\n",
       "      <td>ANDA076890</td>\n",
       "      <td>DIRECT RX</td>\n",
       "      <td>61919-440-14</td>\n",
       "      <td>61919-440</td>\n",
       "      <td>HUMAN PRESCRIPTION DRUG</td>\n",
       "      <td>ORAL</td>\n",
       "      <td>311296</td>\n",
       "      <td>677628d1-858c-7a4e-e053-2a91aa0a099a</td>\n",
       "      <td>4f40d5fa-ebcc-516c-e054-00144ff8d46c</td>\n",
       "      <td>LEVOFLOXACIN</td>\n",
       "      <td>6GNT3Y5LMF</td>\n",
       "      <td>440-14</td>\n",
       "      <td>4f40d5fa-ebcc-516c-e054-00144ff8d46c</td>\n",
       "      <td>LEVOFLOXACIN LEVOFLOXACIN CROSCARMELLOSE SODIU...</td>\n",
       "      <td>2</td>\n",
       "      <td>47493</td>\n",
       "    </tr>\n",
       "  </tbody>\n",
       "</table>\n",
       "</div>"
      ],
      "text/plain": [
       "                openfda_generic_name              openfda_brand_name  \\\n",
       "0     LEVOCETIRIZINE DIHYDROCHLORIDE  levocetirizine dihydrochloride   \n",
       "1                         LISINOPRIL                      Lisinopril   \n",
       "10                    CHOLESTYRAMINE                  Cholestyramine   \n",
       "100                  WARFARIN SODIUM                 Warfarin Sodium   \n",
       "1000                    LEVOFLOXACIN                    LEVOFLOXACIN   \n",
       "\n",
       "                                      adverse_reactions  \\\n",
       "0     6 ADVERSE REACTIONS Use of levocetirizine dihy...   \n",
       "1     6 ADVERSE REACTIONS Common adverse reactions (...   \n",
       "10    ADVERSE REACTIONS The most common adverse reac...   \n",
       "100   6 ADVERSE REACTIONS The following serious adve...   \n",
       "1000  6.1 Serious and Otherwise Important Adverse Re...   \n",
       "\n",
       "                                  clinical_pharmacology  \\\n",
       "0     12 CLINICAL PHARMACOLOGY 12.1 Mechanism of Act...   \n",
       "1     12 CLINICAL PHARMACOLOGY 12.1 Mechanism of Act...   \n",
       "10    CLINICAL PHARMACOLOGY Cholesterol is probably ...   \n",
       "100   12 CLINICAL PHARMACOLOGY 12.1 Mechanism of Act...   \n",
       "1000  12.1 Mechanism of Action Levofloxacin is a mem...   \n",
       "\n",
       "                                      contraindications  \\\n",
       "0     4 CONTRAINDICATIONS The use of levocetirizine ...   \n",
       "1     4 CONTRAINDICATIONS Lisinopril is contraindica...   \n",
       "10    CONTRAINDICATIONS Cholestyramine for Oral Susp...   \n",
       "100   4 CONTRAINDICATIONS Warfarin sodium tablets, U...   \n",
       "1000  Levofloxacin is contraindicated in persons wit...   \n",
       "\n",
       "                                            description  \\\n",
       "0     11 DESCRIPTION Levocetirizine dihydrochloride,...   \n",
       "1     11 DESCRIPTION Lisinopril is an oral long-acti...   \n",
       "10    DESCRIPTION Cholestyramine for Oral Suspension...   \n",
       "100   11 DESCRIPTION Warfarin sodium tablets contain...   \n",
       "1000  [levofloxacinfigure1] Levofloxacin, USP is a s...   \n",
       "\n",
       "                              dosage_and_administration  effective_time  \\\n",
       "0     2 DOSAGE AND ADMINISTRATION Levocetirizine dih...        20160301   \n",
       "1     2 DOSAGE AND ADMINISTRATION Hypertension: Init...        20160627   \n",
       "10    DOSAGE AND ADMINISTRATION The recommended star...        20180504   \n",
       "100   2 DOSAGE AND ADMINISTRATION Individualize dosi...        20171021   \n",
       "1000  2.1 Dosage in Adult Patients with Normal Renal...        20180315   \n",
       "\n",
       "                                           how_supplied  \\\n",
       "0     16 HOW SUPPLIED/STORAGE AND HANDLING Levocetir...   \n",
       "1     16 HOW SUPPLIED/STORAGE AND HANDLING Lisinopri...   \n",
       "10    HOW SUPPLIED Cholestyramine for Oral Suspensio...   \n",
       "100   16 HOW SUPPLIED/STORAGE AND HANDLING Warfarin ...   \n",
       "1000  16.1 Levofloxacin Tablets, USP •Levofloxacin T...   \n",
       "\n",
       "                                        id  \\\n",
       "0     b84ccb27-9c52-43b9-9a46-8f52a571045e   \n",
       "1     d4004fc6-9440-4480-be75-8baa53b96090   \n",
       "10    e0d44fe4-f7b8-4069-8e0e-b8920960b23f   \n",
       "100   4e72832d-fbd7-4bf3-946c-6aeec550d345   \n",
       "1000  677628d1-858c-7a4e-e053-2a91aa0a099a   \n",
       "\n",
       "                                  indications_and_usage  \\\n",
       "0     1 INDICATIONS AND USAGE Levocetirizine dihydro...   \n",
       "1     1 INDICATIONS AND USAGE Lisinopril is an angio...   \n",
       "10    INDICATIONS AND USAGE 1) Cholestyramine for Or...   \n",
       "100   1 INDICATIONS AND USAGE Warfarin sodium tablet...   \n",
       "1000  Levofloxacin tablets are indicated for the tre...   \n",
       "\n",
       "     openfda_application_number                 openfda_manufacturer_name  \\\n",
       "0                    ANDA203646                          Proficient Rx LP   \n",
       "1                    ANDA075743  Aphena Pharma Solutions - Tennessee, LLC   \n",
       "10                   ANDA074557           Upsher-Smith Laboratories, Inc.   \n",
       "100                  ANDA040301         Taro Pharmaceuticals U.S.A., Inc.   \n",
       "1000                 ANDA076890                                 DIRECT RX   \n",
       "\n",
       "                                    openfda_package_ndc  \\\n",
       "0            [63187-663-60, 63187-663-90, 63187-663-30]   \n",
       "1     [43353-993-92, 43353-993-45, 43353-993-53, 433...   \n",
       "10                         [0245-0536-37, 0245-0536-60]   \n",
       "100   [51672-4027-7, 51672-4027-3, 51672-4027-0, 516...   \n",
       "1000                                       61919-440-14   \n",
       "\n",
       "                                    openfda_product_ndc  \\\n",
       "0                                             63187-663   \n",
       "1                                             43353-993   \n",
       "10                                            0245-0536   \n",
       "100   [51672-4033, 51672-4032, 51672-4031, 51672-403...   \n",
       "1000                                          61919-440   \n",
       "\n",
       "         openfda_product_type openfda_route  \\\n",
       "0     HUMAN PRESCRIPTION DRUG          ORAL   \n",
       "1     HUMAN PRESCRIPTION DRUG          ORAL   \n",
       "10    HUMAN PRESCRIPTION DRUG          ORAL   \n",
       "100   HUMAN PRESCRIPTION DRUG          ORAL   \n",
       "1000  HUMAN PRESCRIPTION DRUG          ORAL   \n",
       "\n",
       "                                          openfda_rxcui  \\\n",
       "0                                                855172   \n",
       "1                                                314077   \n",
       "10                                               848943   \n",
       "100   [855332, 855288, 855344, 855318, 855324, 85530...   \n",
       "1000                                             311296   \n",
       "\n",
       "                            openfda_spl_id  \\\n",
       "0     b84ccb27-9c52-43b9-9a46-8f52a571045e   \n",
       "1     d4004fc6-9440-4480-be75-8baa53b96090   \n",
       "10    e0d44fe4-f7b8-4069-8e0e-b8920960b23f   \n",
       "100   4e72832d-fbd7-4bf3-946c-6aeec550d345   \n",
       "1000  677628d1-858c-7a4e-e053-2a91aa0a099a   \n",
       "\n",
       "                        openfda_spl_set_id          openfda_substance_name  \\\n",
       "0     b84ccb27-9c52-43b9-9a46-8f52a571045e  LEVOCETIRIZINE DIHYDROCHLORIDE   \n",
       "1     4d0d04a6-6010-4f2a-b17e-6c7a856d2056                      LISINOPRIL   \n",
       "10    aa1e8007-ec11-4a08-a343-b5b0645695a1                  CHOLESTYRAMINE   \n",
       "100   8ad881e0-ca41-42ad-9d7d-eb85b3a30af0                 WARFARIN SODIUM   \n",
       "1000  4f40d5fa-ebcc-516c-e054-00144ff8d46c                    LEVOFLOXACIN   \n",
       "\n",
       "     openfda_unii              package_label_principal_display_panel  \\\n",
       "0      SOD6A38AGA  PACKAGE LABEL-PRINCIPAL DISPLAY PANEL NDC 6318...   \n",
       "1      E7199S1YWR  PRINCIPAL DISPLAY PANEL - 20 mg NDC 43353-993 ...   \n",
       "10     4B33BGI082  PRINCIPAL DISPLAY PANEL NDC 0245-0536-37 Chole...   \n",
       "100    6153CWM0CL  [PRINCIPAL DISPLAY PANEL - 1 mg Tablet Bottle ...   \n",
       "1000   6GNT3Y5LMF                                             440-14   \n",
       "\n",
       "                                    set_id  \\\n",
       "0     b84ccb27-9c52-43b9-9a46-8f52a571045e   \n",
       "1     4d0d04a6-6010-4f2a-b17e-6c7a856d2056   \n",
       "10    aa1e8007-ec11-4a08-a343-b5b0645695a1   \n",
       "100   8ad881e0-ca41-42ad-9d7d-eb85b3a30af0   \n",
       "1000  4f40d5fa-ebcc-516c-e054-00144ff8d46c   \n",
       "\n",
       "                              spl_product_data_elements  version  total_chars  \n",
       "0     levocetirizine dihydrochloride levocetirizine ...        1        25488  \n",
       "1     Lisinopril Lisinopril LISINOPRIL LISINOPRIL AN...        1        24413  \n",
       "10    Cholestyramine Cholestyramine CHOLESTYRAMINE C...        6        15305  \n",
       "100   Warfarin Sodium Warfarin Sodium Warfarin Sodiu...        8        27589  \n",
       "1000  LEVOFLOXACIN LEVOFLOXACIN CROSCARMELLOSE SODIU...        2        47493  "
      ]
     },
     "metadata": {},
     "output_type": "display_data"
    }
   ],
   "source": [
    "with pd.option_context('display.max_columns', 160):\n",
    "    display(df.head())\n"
   ]
  },
  {
   "cell_type": "code",
   "execution_count": 8,
   "metadata": {},
   "outputs": [
    {
     "name": "stdout",
     "output_type": "stream",
     "text": [
      "adverse_reactions\n",
      "clinical_pharmacology\n",
      "contraindications\n",
      "description\n",
      "dosage_and_administration\n",
      "effective_time\n",
      "how_supplied\n",
      "id\n",
      "indications_and_usage\n",
      "package_label_principal_display_panel\n",
      "set_id\n",
      "spl_product_data_elements\n",
      "version\n",
      "total_chars\n"
     ]
    }
   ],
   "source": [
    "for col in df.columns:\n",
    "    if 'openfda' not in col:\n",
    "        print(col)"
   ]
  },
  {
   "cell_type": "code",
   "execution_count": 20,
   "metadata": {},
   "outputs": [
    {
     "data": {
      "text/plain": [
       "' Mechanism of Action Levocetirizine, the active enantiomer of cetirizine, is an anti-histamine; its principal effects are mediated via selective inhibition of H1 receptors. The antihistaminic activity of levocetirizine has been documented in a variety of animal and human models. In vitro binding studies revealed that levocetirizine has an affinity for the human H1-receptor 2-fold higher than that of cetirizine (Ki = 3 nmol/L vs. 6 nmol/L, respectively). The clinical relevance of this finding is unknown. 12.2 Pharmacodynamics Studies in adult healthy subjects showed that levocetirizine at doses of 2.5 mg and 5 mg inhibited the skin wheal and flare caused by the intradermal injection of histamine. In contrast, dextrocetirizine exhibited no clear change in the inhibition of the wheal and flare reaction. Levocetirizine at a dose of 5 mg inhibited the wheal and flare caused by intradermal injection of histamine in 14 pediatric subjects (aged 6 to 11 years) and the activity persisted for at least 24 hours. The clinical relevance of histamine wheal skin testing is unknown. A QT/QTc study using a single dose of 30 mg of levocetirizine did not demonstrate an effect on the QTc interval. While a single dose of levocetirizine had no effect, the effects of levocetirizine may not be at steady state following single dose. The effect of levocetirizine on the QTc interval following multiple dose administration is unknown. Levocetirizine is not expected to have QT/QTc effects because of the results of QTc studies with cetirizine and the long post-marketing history of cetirizine without reports of QT prolongation. 12.3 Pharmacokinetics Levocetirizine exhibited linear pharmacokinetics over the therapeutic dose range in adult healthy subjects. • Absorption Levocetirizine is rapidly and extensively absorbed following oral administration. In adults, peak plasma concentrations are achieved 0.9 hour after administration of the oral tablet. The accumulation ratio following daily oral administration is 1.12 with steady state achieved after 2 days. Peak concentrations are typically 270 ng/mL and 308 ng/mL following a single and a repeated 5 mg once daily dose, respectively. Food had no effect on the extent of exposure (AUC) of the levocetirizine tablet, but Tmax was delayed by about 1.25 hours and Cmax was decreased by about 36% after administration with a high fat meal; therefore, levocetirizine can be administered with or without food. A dose of 5 mg (10 mL) of levocetirizine dihydrochloride oral solution is bioequivalent to a 5 mg dose of levocetirizine dihydrochloride tablets. Following oral administration of a 5 mg dose of levocetirizine dihydrochloride oral solution to healthy adult subjects, the mean peak plasma concentrations were achieved approximately 0.5 hour post-dose. • Distribution The mean plasma protein binding of levocetirizine in vitro ranged from 91 to 92%, independent of concentration in the range of 90 to 5000 ng/mL, which includes the therapeutic plasma levels observed. Following oral dosing, the average apparent volume of distribution is approximately 0.4 L/kg, representative of distribution in total body water. • Metabolism The extent of metabolism of levocetirizine in humans is less than 14% of the dose and therefore differences resulting from genetic polymorphism or concomitant intake of hepatic drug metabolizing enzyme inhibitors are expected to be negligible. Metabolic pathways include aromatic oxidation, N- and O-dealkylation, and taurine conjugation. Dealkylation pathways are primarily mediated by CYP 3A4 while aromatic oxidation involves multiple and/or unidentified CYP isoforms. • Elimination The plasma half-life in adult healthy subjects was about 8 to 9 hours after administration of oral tablets and oral solution and the mean oral total body clearance for levocetirizine was approximately 0.63 mL/kg/min. The major route of excretion of levocetirizine and its metabolites is via urine, accounting for a mean of 85.4% of the dose. Excretion via feces accounts for only 12.9% of the dose. Levocetirizine is excreted both by glomerular filtration and active tubular secretion. Renal clearance of levocetirizine correlates with that of creatinine clearance. In patients with renal impairment the clearance of levocetirizine is reduced [see Dosage and Administration (2.3) ]. • Drug Interaction Studies In vitro data on metabolite interaction indicate that levocetirizine is unlikely to produce, or be subject to metabolic interactions. Levocetirizine at concentrations well above Cmax level achieved within the therapeutic dose ranges is not an inhibitor of CYP isoenzymes 1A2, 2C9, 2C19, 2A1, 2D6, 2E1, and 3A4, and is not an inducer of UGT1A or CYP isoenzymes 1A2, 2C9 and 3A4. No formal in vivo drug interaction studies have been performed with levocetirizine. Studies have been performed with the racemic cetirizine [see Drug Interactions (7) ]. • Pediatric Patients Data from a pediatric pharmacokinetic study with oral administration of a single dose of 5 mg levocetirizine in 14 children age 6 to 11 years with body weight ranging between 20 and 40 kg show that Cmax and AUC values are about 2-fold greater than that reported in healthy adult subjects in a cross-study comparison. The mean Cmax was 450 ng/mL, occurring at a mean time of 1.2 hours, weight-normalized, total body clearance was 30% greater, and the elimination half-life 24% shorter in this pediatric population than in adults. Dedicated pharmacokinetic studies have not been conducted in pediatric patients younger than 6 years of age. A retrospective population pharmacokinetic analysis was conducted in 324 subjects (181 children 1 to 5 years of age, 18 children 6 to 11 years of age, and 124 adults 18 to 55 years of age) who received single or multiple doses of levocetirizine ranging from 1.25 mg to 30 mg. Data generated from this analysis indicated that administration of 1.25 mg once daily to children 6 months to 5 years of age results in plasma concentrations similar to those of adults receiving 5 mg once daily. • Geriatric Patients Limited pharmacokinetic data are available in elderly subjects. Following once daily repeat oral administration of 30 mg levocetirizine for 6 days in 9 elderly subjects (65 to 74 years of age), the total body clearance was approximately 33% lower compared to that in younger adults. The disposition of racemic cetirizine has been shown to be dependent on renal function rather than on age. This finding would also be applicable for levocetirizine, as levocetirizine and cetirizine are both predominantly excreted in urine. Therefore, the levocetirizine dihydrochloride dose should be adjusted in accordance with renal function in elderly patients [see Dosage and Administration (2) ]. • Gender Pharmacokinetic results for 77 patients (40 men, 37 women) were evaluated for potential effect of gender. The half-life was slightly shorter in women (7.08 ± 1.72 hr) than in men (8.62 ± 1.84 hr); however, the body weight-adjusted oral clearance in women (0.67 ± 0.16 mL/min/kg) appears to be comparable to that in men (0.59 ± 0.12 mL/min/kg). The same daily doses and dosing intervals are applicable for men and women with normal renal function. • Race The effect of race on levocetirizine has not been studied. As levocetirizine is primarily renally excreted, and there are no important racial differences in creatinine clearance, pharmacokinetic characteristics of levocetirizine are not expected to be different across races. No race-related differences in the kinetics of racemic cetirizine have been observed. • Renal Impairment Levocetirizine exposure (AUC) exhibited 1.8-, 3.2-, 4.3-, and 5.7-fold increase in mild, moderate, severe, renal impaired, and end-stage renal disease patients, respectively, compared to healthy subjects. The corresponding increases of half-life estimates were 1.4-, 2.0-, 2.9-, and 4-fold, respectively. The total body clearance of levocetirizine after oral dosing was correlated to the creatinine clearance and was progressively reduced based on severity of renal impairment. Therefore, it is recommended to adjust the dose and dosing intervals of levocetirizine based on creatinine clearance in patients with mild, moderate, or severe renal impairment. In end-stage renal disease patients (CLCR < 10 mL/min) levocetirizine is contraindicated. The amount of levocetirizine removed during a standard 4–hour hemodialysis procedure was <10%. The dosage of levocetrizine dihydrochloride should be reduced in patients with mild renal impairment. Both the dosage and frequency of administration should be reduced in patients with moderate or severe renal impairment [see Dosage and Administration (2.4) ]. • Hepatic Impairment Levocetirizine has not been studied in patients with hepatic impairment. The non-renal clearance (indicative of hepatic contribution) was found to constitute about 28% of the total body clearance in healthy adult subjects after oral administration. As levocetirizine is mainly excreted unchanged by the kidney, it is unlikely that the clearance of levocetirizine is significantly decreased in patients with solely hepatic impairment [see Dosage and Administration (2) ].'"
      ]
     },
     "execution_count": 20,
     "metadata": {},
     "output_type": "execute_result"
    }
   ],
   "source": [
    "df.iloc[0].clinical_pharmacology.split('12.1')[1]"
   ]
  },
  {
   "cell_type": "code",
   "execution_count": 13,
   "metadata": {},
   "outputs": [
    {
     "data": {
      "text/plain": [
       "'1 INDICATIONS AND USAGE Levocetirizine dihydrochloride tablets are a histamine H1‑receptor antagonist indicated for: •The relief of symptoms associated with seasonal and perennial allergic rhinitis (1.1, 1.2) •The treatment of the uncomplicated skin manifestations of chronic idiopathic urticaria (1.3) 1.1 Seasonal Allergic Rhinitis Levocetirizine dihydrochloride tablets are indicated for the relief of symptoms associated with seasonal allergic rhinitis in adults and children 6 years of age and older. 1.2 Perennial Allergic Rhinitis Levocetirizine dihydrochloride tablets are indicated for the relief of symptoms associated with perennial allergic rhinitis in adults and children 6 years of age and older. 1.3 Chronic Idiopathic Urticaria Levocetirizine dihydrochloride tablets are indicated for the treatment of the uncomplicated skin manifestations of chronic idiopathic urticaria in adults and children 6 years of age and older.'"
      ]
     },
     "execution_count": 13,
     "metadata": {},
     "output_type": "execute_result"
    }
   ],
   "source": [
    "df.iloc[0].indications_and_usage"
   ]
  },
  {
   "cell_type": "code",
   "execution_count": 14,
   "metadata": {},
   "outputs": [
    {
     "data": {
      "text/plain": [
       "'6 ADVERSE REACTIONS Use of levocetirizine dihydrochloride has been associated with somnolence, fatigue, asthenia, and urinary retention. [see Warnings and Precautions (5) ]. The most common adverse reactions (rate ≥2% and > placebo) were somnolence, nasopharyngitis, fatigue, dry mouth, and pharyngitis in subjects 12 years of age and older, and pyrexia, somnolence, cough, and epistaxis in children 6 to 12 years of age. In subjects 1 to 5 years of age, the most common adverse reactions (rate ≥2% and > placebo) were pyrexia, diarrhea, vomiting, and otitis media. In subjects 6 to 11 months of age, the most common adverse reactions (rate ≥3% and > placebo) were diarrhea and constipation. (6.1). To report SUSPECTED ADVERSE REACTIONS, contact Vensun Pharmaceuticals, Inc. at 1-800-385-1540 or FDA at 1-800-FDA-1088 or www.fda.gov/medwatch. 6.1 Clinical Trials Experience The safety data described below reflect exposure to levocetirizine dihydrochloride in 2708 patients with seasonal or perennial allergic rhinitis or chronic idiopathic urticaria in 14 controlled clinical trials of 1 week to 6 months duration. The short-term (exposure up to 6 weeks) safety data for adults and adolescents are based upon eight clinical trials in which 1896 patients (825 males and 1071 females aged 12 years and older) were treated with levocetirizine dihydrochloride 2.5, 5, or 10 mg once daily in the evening. The short-term safety data from pediatric patients are based upon two clinical trials in which 243 children with seasonal or perennial allergic rhinitis (162 males and 81 females 6 to 12 years of age) were treated with levocetirizine dihydrochloride 5 mg once daily for 4 to 6 weeks, one clinical trial in which 114 children (65 males and 49 females 1 to 5 years of age) with allergic rhinitis or chronic idiopathic urticaria were treated with levocetirizine dihydrochloride 1.25 mg twice daily for 2 weeks, and one clinical trial in which 45 children (28 males and 17 females 6 to 11 months of age) with symptoms of allergic rhinitis or chronic urticaria were treated with levocetirizine dihydrochloride 1.25 mg once daily for 2 weeks. The long-term (exposure of 4 or 6 months) safety data in adults and adolescents are based upon two clinical trials in which 428 patients (190 males and 238 females) with allergic rhinitis were exposed to treatment with levocetirizine dihydrochloride 5 mg once daily. Long term safety data are also available from an 18-month trial in 255 levocetirizine dihydrochloride-treated subjects 12 to 24 months of age. Because clinical trials are conducted under widely varying conditions, adverse reaction rates observed in the clinical trials of a drug cannot be directly compared to rates in the clinical trial of another drug and may not reflect the rates observed in practice. Adults and Adolescents 12 Years of Age and Older In studies up to 6 weeks in duration, the mean age of the adult and adolescent patients was 32 years, 44% of the patients were men and 56% were women, and the large majority (more than 90%) was Caucasian. In these trials 43% and 42% of the subjects in the levocetirizine dihydrochloride 2.5 mg and 5 mg groups, respectively, had at least one adverse event compared to 43% in the placebo group. In placebo-controlled trials of 1 to 6 weeks in duration, the most common adverse reactions were somnolence, nasopharyngitis, fatigue, dry mouth, and pharyngitis, and most were mild to moderate in intensity. Somnolence with levocetrizine dihydrochloride showed dose ordering between tested doses of 2.5, 5 and 10 mg and was the most common adverse reaction leading to discontinuation (0.5%). Table 1 lists adverse reactions that were reported in greater than or equal to 2% of subjects aged 12 years and older exposed to levocetirizine dihydrochloride 2.5 mg or 5 mg in eight placebo-controlled clinical trials and that were more common with levocetirizine dihydrochloride than placebo. Table 1 Adverse Reactions Reported in ≥ 2% Rounded to the closest unit percentageof Subjects Aged 12 Years and Older Exposed to Levocetirizine Dihydrochloride 2.5 mg or 5 mg Once Daily in Placebo-Controlled Clinical Trials 1 to 6 Weeks in Duration Adverse Reactions Levocetirizine dihydrochloride 2.5 mg (n = 421) Levocetirizine dihydrochloride 5 mg (n = 1070) Placebo (n = 912) Somnolence 22 (5%) 61 (6%) 16 (2%) Nasopharyngitis 25 (6%) 40 (4%) 28 (3%) Fatigue 5 (1%) 46 (4%) 20 (2%) Dry Mouth 12 (3%) 26 (2%) 11 (1%) Pharyngitis 10 (2%) 12 (1%) 9 (1%) Additional adverse reactions of medical significance observed at a higher incidence than in placebo in adults and adolescents aged 12 years and older exposed to levocetirizine dihydrochloride are syncope (0.2%) and weight increased (0.5%). Pediatric Patients 6 to 12 Years of Age A total of 243 pediatric patients 6 to 12 years of age received levocetirizine dihydrochloride 5 mg once daily in two short-term placebo controlled double-blind trials. The mean age of the patients was 9.8 years, 79 (32%) were 6 to 8 years of age, and 50% were Caucasian. Table 2 lists adverse reactions that were reported in greater than or equal to 2% of subjects aged 6 to 12 years exposed to levocetirizine dihydrochloride 5 mg in placebo-controlled clinical trials and that were more common with levocetirizine dihydrochloride than placebo. Table 2 Adverse Reactions Reported in ≥ 2%Rounded to the closest unit percentage of Subjects Aged 6 to 12 Years Exposed to Levocetirizine Dihydrochloride 5 mg Once Daily in Placebo-Controlled Clinical Trials 4 and 6 Weeks in Duration Adverse Reactions Levocetirizine dihydrochloride 5 mg (n = 243) Placebo (n = 240) Pyrexia 10 (4%) 5 (2%) Cough 8 (3%) 2 (<1%) Somnolence 7 (3%) 1 (<1%) Epistaxis 6 (2%) 1 (<1%) Pediatric Patients 1 to 5 Years of Age A total of 114 pediatric patients 1 to 5 years of age received levocetirizine dihydrochloride 1.25 mg twice daily in a two week placebo-controlled double-blind safety trial. The mean age of the patients was 3.8 years, 32% were 1 to 2 years of age, 71% were Caucasian and 18% were Black. Table 3 lists adverse reactions that were reported in greater than or equal to 2% of subjects aged 1 to 5 years exposed to levocetirizine dihydrochloride 1.25 mg twice daily in the placebo-controlled safety trial and that were more common with levocetirizine dihydrochloride than placebo. Table 3 Adverse Reactions Reported in ≥2%Rounded to the closest unit percentage of Subjects Aged 1 to 5 Years Exposed to Levocetirizine Dihydrochloride 1.25 mg Twice Daily in a 2-Week Placebo-Controlled Clinical Trial Adverse Reactions Levocetirizine dihydrochloride 1.25 mg Twice Daily (n = 114) Placebo (n = 59) Pyrexia 5 (4%) 1 (2%) Diarrhea 4 (4%) 2 (3%) Vomiting 4 (4%) 2 (3%) Otitis Media 3 (3%) 0 (0%) Pediatric Patients 6 to 11 Months of Age A total of 45 pediatric patients 6 to 11 months of age received levocetirizine dihydrochloride 1.25 mg once daily in a two week placebo-controlled double-blind safety trial. The mean age of the patients was 9 months, 51% were Caucasian and 31% were Black. Adverse reactions that were reported in more than 1 subject (i.e. greater than or equal to 3% of subjects) aged 6 to 11 months exposed to levocetirizine 1.25 mg once daily in the placebo- controlled safety trial and that were more common with levocetirizine dihydrochloride than placebo included diarrhea and constipation which were reported in 6 (13%) and 1 (4%) and 3 (7%) and 1 (4%) children in the levocetirizine and placebo- treated groups, respectively. Long-Term Clinical Trials Experience In two controlled clinical trials, 428 patients (190 males and 238 females) aged 12 years and older were treated with levocetirizine dihydrochloride 5 mg once daily for 4 or 6 months. The patient characteristics and the safety profile were similar to that seen in the short-term studies. Ten (2.3%) patients treated with levocetirizine dihydrochloride discontinued because of somnolence, fatigue or asthenia compared to 2 (<1%) in the placebo group. There are no long term clinical trials in children below 12 years of age with allergic rhinitis or chronic idiopathic urticaria. Laboratory Test Abnormalities Elevations of blood bilirubin and transaminases were reported in <1% of patients in the clinical trials. The elevations were transient and did not lead to discontinuation in any patient. 6.2 Post-Marketing Experience In addition to the adverse reactions reported during clinical trials and listed above, adverse events have also been identified during post-approval use of levocetirizine dihydrochloride . Because these events are reported voluntarily from a population of uncertain size, it is not always possible to reliably estimate their frequency or establish a causal relationship to drug exposure. Adverse events of hypersensitivity and anaphylaxis, increased appetite, angioedema, fixed drug eruption, pruritus, rash, and urticaria, convulsion, paraesthesia, dizziness, tremor, dysgeusia, vertigo, movement disorders (including dystonia and oculogyric crisis) aggression and agitation, hallucinations, depression, insomnia, suicidal ideation, visual disturbances, blurred vision, palpitations, tachycardia, dyspnea, nausea, vomiting, hepatitis, dysuria, urinary retention, myalgia and edema have been reported. Besides these events reported under treatment with levocetirizine dihydrochloride, other potentially severe adverse events have been reported from the post-marketing experience with cetirizine. Since levocetirizine is the principal pharmacologically active component of cetirizine, one should take into account the fact that the following adverse events could also potentially occur under treatment with levocetirizine dihydrochloride: orofacial dyskinesia, severe hypotension, cholestasis, glomerulonephritis, still birth, tic, myoclonus, and extrapyramidal symptoms.'"
      ]
     },
     "execution_count": 14,
     "metadata": {},
     "output_type": "execute_result"
    }
   ],
   "source": [
    "df.adverse_reactions.iloc[0]"
   ]
  },
  {
   "cell_type": "code",
   "execution_count": 15,
   "metadata": {},
   "outputs": [
    {
     "data": {
      "text/plain": [
       "'4 CONTRAINDICATIONS The use of levocetirizine dihydrochloride tablets is contraindicated in: 1.Patients with a known hypersensitivity to levocetirizine or any of the ingredients of levocetirizine dihydrochloride tablets or to cetirizine (4.1) 2.Patients with end-stage renal disease at less than 10 mL/min creatinine clearance or patients undergoing hemodialysis (4.2) 3.Children 6 months to 11 years of age with renal impairment (4.3) 4.1 Patients with known hypersensitivity Patients with known hypersensitivity to levocetirizine or any of the ingredients of levocetirizine dihydrochloride tablets, or to cetirizine. Observed reactions range from urticaria to anaphylaxis [ see Adverse Reactions (6.2) ]. 4.2 Patients with end-stage renal disease Patients with end-stage renal disease (CLCR < 10 mL/min) and patients undergoing hemodialysis 4.3 Pediatric patients with impaired renal function Children 6 months to 11 years of age with impaired renal function'"
      ]
     },
     "execution_count": 15,
     "metadata": {},
     "output_type": "execute_result"
    }
   ],
   "source": [
    "df.contraindications.iloc[0]"
   ]
  },
  {
   "cell_type": "code",
   "execution_count": 16,
   "metadata": {},
   "outputs": [
    {
     "data": {
      "text/plain": [
       "'2 DOSAGE AND ADMINISTRATION Levocetirizine dihydrochloride tablets are available as 5 mg breakable (scored) tablets, allowing for the administration of 2.5 mg, if needed. Levocetirizine dihydrochloride tablets can be taken without regard to food consumption. 1.Adults and children 12 years of age and older: 5 mg once daily in the evening (2.1) 2.Children 6 to 11 years of age: 2.5 mg once daily in the evening (2.2) 3.Renal Impairment Adjust the dose in patients 12 years of age and older with decreased renal function (2.4, 12.3) 2.1 Adults and Children 12 Years of Age and Older The recommended dose of levocetirizine dihydrochloride tablets is 5 mg (1 tablet) once daily in the evening. Some patients may be adequately controlled by 2.5 mg (1/2 tablet) once daily in the evening. 2.2 Children 6 to 11 Years of Age The recommended dose of levocetirizine dihydrochloride tablets is 2.5 mg (1/2 tablet) once daily in the evening. The 2.5 mg dose should not be exceeded because the systemic exposure with 5 mg is approximately twice that of adults [ see Clinical Pharmacology (12.3) ]. 2.4 Dose Adjustment for Renal and Hepatic Impairment In adults and children 12 years of age and older with: 1.Mild renal impairment (creatinine clearance [CLCR] = 50 to 80 mL/min): a dose of 2.5 mg once daily is recommended; 2.Moderate renal impairment (CLCR = 30 to 50 mL/min): a dose of 2.5 mg once every other day is recommended; 3.Severe renal impairment (CLCR = 10 to 30 mL/min): a dose of 2.5 mg twice weekly (administered once every 3 to 4 days) is recommended; 4.End-stage renal disease patients (CLCR < 10 mL/min) and patients undergoing hemodialysis should not receive levocetirizine dihydrochloride tablets. No dose adjustment is needed in patients with solely hepatic impairment. In patients with both hepatic impairment and renal impairment, adjustment of the dose is recommended.'"
      ]
     },
     "execution_count": 16,
     "metadata": {},
     "output_type": "execute_result"
    }
   ],
   "source": [
    "df.dosage_and_administration.iloc[0]"
   ]
  },
  {
   "cell_type": "code",
   "execution_count": 18,
   "metadata": {},
   "outputs": [
    {
     "data": {
      "text/plain": [
       "'16 HOW SUPPLIED/STORAGE AND HANDLING Levocetirizine Dihydrochloride Tablets, 5 mg are white, oval, biconvex, film-coated functional scored tablets debossed with “S” on the left side of bisect and “G” on the right side of bisect and other side “1” on the left side and “36” on the right side of the bisect. They are supplied in unit of use HDPE bottles. NDC 63187-663-30: Bottle of 30 tablets NDC 63187-663-60: Bottle of 60 tablets NDC 63187-663-90: Bottle of 90 tablets Storage: Store at 20° to 25°C (68° to 77°F); excursions permitted to 15° to 30°C (59° to 86°F) [see USP Controlled Room Temperature].'"
      ]
     },
     "execution_count": 18,
     "metadata": {},
     "output_type": "execute_result"
    }
   ],
   "source": [
    "df.how_supplied.iloc[0]"
   ]
  },
  {
   "cell_type": "code",
   "execution_count": null,
   "metadata": {},
   "outputs": [],
   "source": [
    "\n",
    "df.query('total_chars < 50000').total_chars.sum()"
   ]
  },
  {
   "cell_type": "code",
   "execution_count": null,
   "metadata": {},
   "outputs": [],
   "source": [
    "df.total_chars.hist()"
   ]
  },
  {
   "cell_type": "code",
   "execution_count": null,
   "metadata": {},
   "outputs": [],
   "source": [
    "df.query('openfda_product_type == \"HUMAN PRESCRIPTION DRUG\"').total_chars.sum()/100*0.01"
   ]
  },
  {
   "cell_type": "code",
   "execution_count": null,
   "metadata": {},
   "outputs": [],
   "source": [
    "df[['openfda_brand_name', 'openfda_product_type']]"
   ]
  },
  {
   "cell_type": "code",
   "execution_count": null,
   "metadata": {},
   "outputs": [],
   "source": [
    "with pd.option_context('display.max_rows', 160):\n",
    "    print(df.loc[99995])"
   ]
  },
  {
   "cell_type": "code",
   "execution_count": null,
   "metadata": {},
   "outputs": [],
   "source": [
    "df_rx = df.query('openfda_product_type == \"HUMAN PRESCRIPTION DRUG\"')"
   ]
  },
  {
   "cell_type": "code",
   "execution_count": null,
   "metadata": {},
   "outputs": [],
   "source": [
    "df_rx.to_csv('../data/drug_labels_rx_only.csv')"
   ]
  },
  {
   "cell_type": "code",
   "execution_count": null,
   "metadata": {},
   "outputs": [],
   "source": []
  }
 ],
 "metadata": {
  "kernelspec": {
   "display_name": "Python 3",
   "language": "python",
   "name": "python3"
  },
  "language_info": {
   "codemirror_mode": {
    "name": "ipython",
    "version": 3
   },
   "file_extension": ".py",
   "mimetype": "text/x-python",
   "name": "python",
   "nbconvert_exporter": "python",
   "pygments_lexer": "ipython3",
   "version": "3.6.4"
  },
  "toc": {
   "base_numbering": 1,
   "nav_menu": {},
   "number_sections": true,
   "sideBar": true,
   "skip_h1_title": true,
   "title_cell": "Table of Contents",
   "title_sidebar": "Contents",
   "toc_cell": true,
   "toc_position": {},
   "toc_section_display": true,
   "toc_window_display": true
  }
 },
 "nbformat": 4,
 "nbformat_minor": 2
}
